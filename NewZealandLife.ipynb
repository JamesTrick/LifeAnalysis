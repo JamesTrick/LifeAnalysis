{
 "cells": [
  {
   "cell_type": "markdown",
   "metadata": {},
   "source": [
    "# Exploring Death Rates across regions in New Zealand\n",
    "\n",
    "This notebook primarily explores the effect of income on death rates and life expectancy.\n",
    "\n",
    "## Data Choices\n",
    "\n",
    "Deaths are reported on a per regional basis.\n",
    "\n",
    "deathRate is mathmatically calculated by:\n",
    "\n",
    "$$ deathRate = \\frac {deaths} {population} $$\n",
    "\n",
    "## Methodology"
   ]
  },
  {
   "cell_type": "code",
   "execution_count": 1,
   "metadata": {
    "collapsed": false
   },
   "outputs": [],
   "source": [
    "\"\"\"\n",
    "Get all required packages\n",
    "\"\"\"\n",
    "\n",
    "import pandas as pd\n",
    "import matplotlib.pyplot as plt\n",
    "plt.style.use('ggplot')\n",
    "%matplotlib inline\n",
    "from statsmodels.formula.api import ols\n",
    "import plotly.plotly as py\n",
    "import plotly.graph_objs as go"
   ]
  },
  {
   "cell_type": "markdown",
   "metadata": {},
   "source": [
    "## Explore for Auckland Region"
   ]
  },
  {
   "cell_type": "code",
   "execution_count": 2,
   "metadata": {
    "collapsed": false
   },
   "outputs": [
    {
     "data": {
      "text/html": [
       "<div>\n",
       "<table border=\"1\" class=\"dataframe\">\n",
       "  <thead>\n",
       "    <tr style=\"text-align: right;\">\n",
       "      <th></th>\n",
       "      <th>year</th>\n",
       "      <th>deathsMaori</th>\n",
       "      <th>deaths</th>\n",
       "      <th>population</th>\n",
       "      <th>deathRate</th>\n",
       "      <th>averageIncome</th>\n",
       "      <th>medianIncome</th>\n",
       "    </tr>\n",
       "  </thead>\n",
       "  <tbody>\n",
       "    <tr>\n",
       "      <th>0</th>\n",
       "      <td>1998</td>\n",
       "      <td>501</td>\n",
       "      <td>7179</td>\n",
       "      <td>1169000</td>\n",
       "      <td>0.614115</td>\n",
       "      <td>1066</td>\n",
       "      <td>900</td>\n",
       "    </tr>\n",
       "    <tr>\n",
       "      <th>1</th>\n",
       "      <td>1999</td>\n",
       "      <td>465</td>\n",
       "      <td>6927</td>\n",
       "      <td>1184800</td>\n",
       "      <td>0.584656</td>\n",
       "      <td>1074</td>\n",
       "      <td>914</td>\n",
       "    </tr>\n",
       "    <tr>\n",
       "      <th>2</th>\n",
       "      <td>2000</td>\n",
       "      <td>462</td>\n",
       "      <td>7179</td>\n",
       "      <td>1201500</td>\n",
       "      <td>0.597503</td>\n",
       "      <td>1097</td>\n",
       "      <td>921</td>\n",
       "    </tr>\n",
       "    <tr>\n",
       "      <th>3</th>\n",
       "      <td>2001</td>\n",
       "      <td>453</td>\n",
       "      <td>6720</td>\n",
       "      <td>1218300</td>\n",
       "      <td>0.551588</td>\n",
       "      <td>1162</td>\n",
       "      <td>955</td>\n",
       "    </tr>\n",
       "    <tr>\n",
       "      <th>4</th>\n",
       "      <td>2002</td>\n",
       "      <td>459</td>\n",
       "      <td>7176</td>\n",
       "      <td>1255800</td>\n",
       "      <td>0.571429</td>\n",
       "      <td>1206</td>\n",
       "      <td>1034</td>\n",
       "    </tr>\n",
       "  </tbody>\n",
       "</table>\n",
       "</div>"
      ],
      "text/plain": [
       "   year  deathsMaori  deaths  population  deathRate  averageIncome  \\\n",
       "0  1998          501    7179     1169000   0.614115           1066   \n",
       "1  1999          465    6927     1184800   0.584656           1074   \n",
       "2  2000          462    7179     1201500   0.597503           1097   \n",
       "3  2001          453    6720     1218300   0.551588           1162   \n",
       "4  2002          459    7176     1255800   0.571429           1206   \n",
       "\n",
       "   medianIncome  \n",
       "0           900  \n",
       "1           914  \n",
       "2           921  \n",
       "3           955  \n",
       "4          1034  "
      ]
     },
     "execution_count": 2,
     "metadata": {},
     "output_type": "execute_result"
    }
   ],
   "source": [
    "auckland = pd.read_csv('auckland.csv',thousands=',')\n",
    "auckland.head()"
   ]
  },
  {
   "cell_type": "code",
   "execution_count": 3,
   "metadata": {
    "collapsed": false
   },
   "outputs": [
    {
     "data": {
      "text/plain": [
       "<matplotlib.axes._subplots.AxesSubplot at 0x7fdb9ef54f90>"
      ]
     },
     "execution_count": 3,
     "metadata": {},
     "output_type": "execute_result"
    },
    {
     "data": {
      "image/png": "[encoded data removed]",
      "text/plain": [
       "<matplotlib.figure.Figure at 0x7fdbd1de8c50>"
      ]
     },
     "metadata": {},
     "output_type": "display_data"
    },
    {
     "data": {
      "image/png": "[encoded data removed]",
      "text/plain": [
       "<matplotlib.figure.Figure at 0x7fdbd1de8750>"
      ]
     },
     "metadata": {},
     "output_type": "display_data"
    }
   ],
   "source": [
    "auckland.plot.scatter(x='medianIncome', y= 'deathRate', s=50, title='Auckland Death Rates')\n",
    "auckland.plot(x='year', y='deathRate', title='Auckland Death Rates over 1998 - 2016')"
   ]
  },
  {
   "cell_type": "code",
   "execution_count": 4,
   "metadata": {
    "collapsed": false
   },
   "outputs": [],
   "source": [
    "year_16 = pd.read_csv('2016.csv', thousands=',')"
   ]
  },
  {
   "cell_type": "code",
   "execution_count": 5,
   "metadata": {
    "collapsed": false
   },
   "outputs": [
    {
     "data": {
      "text/plain": [
       "<matplotlib.axes._subplots.AxesSubplot at 0x7fdb9ef98450>"
      ]
     },
     "execution_count": 5,
     "metadata": {},
     "output_type": "execute_result"
    },
    {
     "data": {
      "image/png": "[encoded data removed]",
      "text/plain": [
       "<matplotlib.figure.Figure at 0x7fdb9f2d2ad0>"
      ]
     },
     "metadata": {},
     "output_type": "display_data"
    }
   ],
   "source": [
    "year_16.plot.scatter(x='medianIncome', y='deathRate', s=50, title='Death Rate vs Income per region, 2016')"
   ]
  },
  {
   "cell_type": "code",
   "execution_count": 6,
   "metadata": {
    "collapsed": false
   },
   "outputs": [
    {
     "data": {
      "text/html": [
       "<div>\n",
       "<table border=\"1\" class=\"dataframe\">\n",
       "  <thead>\n",
       "    <tr style=\"text-align: right;\">\n",
       "      <th></th>\n",
       "      <th>year</th>\n",
       "      <th>deathsMaori</th>\n",
       "      <th>deaths</th>\n",
       "      <th>population</th>\n",
       "      <th>deathRate</th>\n",
       "      <th>averageIncome</th>\n",
       "      <th>medianIncome</th>\n",
       "      <th>lifeExpectMen</th>\n",
       "      <th>lifeExpecWoman</th>\n",
       "      <th>Unnamed: 10</th>\n",
       "      <th>Unnamed: 11</th>\n",
       "    </tr>\n",
       "  </thead>\n",
       "  <tbody>\n",
       "    <tr>\n",
       "      <th>year</th>\n",
       "      <td>NaN</td>\n",
       "      <td>NaN</td>\n",
       "      <td>NaN</td>\n",
       "      <td>NaN</td>\n",
       "      <td>NaN</td>\n",
       "      <td>NaN</td>\n",
       "      <td>NaN</td>\n",
       "      <td>NaN</td>\n",
       "      <td>NaN</td>\n",
       "      <td>NaN</td>\n",
       "      <td>NaN</td>\n",
       "    </tr>\n",
       "    <tr>\n",
       "      <th>deathsMaori</th>\n",
       "      <td>NaN</td>\n",
       "      <td>1.000000</td>\n",
       "      <td>0.774049</td>\n",
       "      <td>0.730985</td>\n",
       "      <td>-0.533767</td>\n",
       "      <td>0.392888</td>\n",
       "      <td>0.399982</td>\n",
       "      <td>0.020677</td>\n",
       "      <td>0.077128</td>\n",
       "      <td>NaN</td>\n",
       "      <td>NaN</td>\n",
       "    </tr>\n",
       "    <tr>\n",
       "      <th>deaths</th>\n",
       "      <td>NaN</td>\n",
       "      <td>0.774049</td>\n",
       "      <td>1.000000</td>\n",
       "      <td>0.984351</td>\n",
       "      <td>-0.823141</td>\n",
       "      <td>0.686713</td>\n",
       "      <td>0.719279</td>\n",
       "      <td>0.342895</td>\n",
       "      <td>0.300216</td>\n",
       "      <td>NaN</td>\n",
       "      <td>NaN</td>\n",
       "    </tr>\n",
       "    <tr>\n",
       "      <th>population</th>\n",
       "      <td>NaN</td>\n",
       "      <td>0.730985</td>\n",
       "      <td>0.984351</td>\n",
       "      <td>1.000000</td>\n",
       "      <td>-0.841152</td>\n",
       "      <td>0.704234</td>\n",
       "      <td>0.704462</td>\n",
       "      <td>0.370725</td>\n",
       "      <td>0.319598</td>\n",
       "      <td>NaN</td>\n",
       "      <td>NaN</td>\n",
       "    </tr>\n",
       "    <tr>\n",
       "      <th>deathRate</th>\n",
       "      <td>NaN</td>\n",
       "      <td>-0.533767</td>\n",
       "      <td>-0.823141</td>\n",
       "      <td>-0.841152</td>\n",
       "      <td>1.000000</td>\n",
       "      <td>-0.841000</td>\n",
       "      <td>-0.825647</td>\n",
       "      <td>-0.253022</td>\n",
       "      <td>-0.157858</td>\n",
       "      <td>NaN</td>\n",
       "      <td>NaN</td>\n",
       "    </tr>\n",
       "    <tr>\n",
       "      <th>averageIncome</th>\n",
       "      <td>NaN</td>\n",
       "      <td>0.392888</td>\n",
       "      <td>0.686713</td>\n",
       "      <td>0.704234</td>\n",
       "      <td>-0.841000</td>\n",
       "      <td>1.000000</td>\n",
       "      <td>0.918695</td>\n",
       "      <td>0.319915</td>\n",
       "      <td>0.208808</td>\n",
       "      <td>NaN</td>\n",
       "      <td>NaN</td>\n",
       "    </tr>\n",
       "    <tr>\n",
       "      <th>medianIncome</th>\n",
       "      <td>NaN</td>\n",
       "      <td>0.399982</td>\n",
       "      <td>0.719279</td>\n",
       "      <td>0.704462</td>\n",
       "      <td>-0.825647</td>\n",
       "      <td>0.918695</td>\n",
       "      <td>1.000000</td>\n",
       "      <td>0.228444</td>\n",
       "      <td>0.120063</td>\n",
       "      <td>NaN</td>\n",
       "      <td>NaN</td>\n",
       "    </tr>\n",
       "    <tr>\n",
       "      <th>lifeExpectMen</th>\n",
       "      <td>NaN</td>\n",
       "      <td>0.020677</td>\n",
       "      <td>0.342895</td>\n",
       "      <td>0.370725</td>\n",
       "      <td>-0.253022</td>\n",
       "      <td>0.319915</td>\n",
       "      <td>0.228444</td>\n",
       "      <td>1.000000</td>\n",
       "      <td>0.979623</td>\n",
       "      <td>NaN</td>\n",
       "      <td>NaN</td>\n",
       "    </tr>\n",
       "    <tr>\n",
       "      <th>lifeExpecWoman</th>\n",
       "      <td>NaN</td>\n",
       "      <td>0.077128</td>\n",
       "      <td>0.300216</td>\n",
       "      <td>0.319598</td>\n",
       "      <td>-0.157858</td>\n",
       "      <td>0.208808</td>\n",
       "      <td>0.120063</td>\n",
       "      <td>0.979623</td>\n",
       "      <td>1.000000</td>\n",
       "      <td>NaN</td>\n",
       "      <td>NaN</td>\n",
       "    </tr>\n",
       "    <tr>\n",
       "      <th>Unnamed: 10</th>\n",
       "      <td>NaN</td>\n",
       "      <td>NaN</td>\n",
       "      <td>NaN</td>\n",
       "      <td>NaN</td>\n",
       "      <td>NaN</td>\n",
       "      <td>NaN</td>\n",
       "      <td>NaN</td>\n",
       "      <td>NaN</td>\n",
       "      <td>NaN</td>\n",
       "      <td>NaN</td>\n",
       "      <td>NaN</td>\n",
       "    </tr>\n",
       "    <tr>\n",
       "      <th>Unnamed: 11</th>\n",
       "      <td>NaN</td>\n",
       "      <td>NaN</td>\n",
       "      <td>NaN</td>\n",
       "      <td>NaN</td>\n",
       "      <td>NaN</td>\n",
       "      <td>NaN</td>\n",
       "      <td>NaN</td>\n",
       "      <td>NaN</td>\n",
       "      <td>NaN</td>\n",
       "      <td>NaN</td>\n",
       "      <td>NaN</td>\n",
       "    </tr>\n",
       "  </tbody>\n",
       "</table>\n",
       "</div>"
      ],
      "text/plain": [
       "                year  deathsMaori    deaths  population  deathRate  \\\n",
       "year             NaN          NaN       NaN         NaN        NaN   \n",
       "deathsMaori      NaN     1.000000  0.774049    0.730985  -0.533767   \n",
       "deaths           NaN     0.774049  1.000000    0.984351  -0.823141   \n",
       "population       NaN     0.730985  0.984351    1.000000  -0.841152   \n",
       "deathRate        NaN    -0.533767 -0.823141   -0.841152   1.000000   \n",
       "averageIncome    NaN     0.392888  0.686713    0.704234  -0.841000   \n",
       "medianIncome     NaN     0.399982  0.719279    0.704462  -0.825647   \n",
       "lifeExpectMen    NaN     0.020677  0.342895    0.370725  -0.253022   \n",
       "lifeExpecWoman   NaN     0.077128  0.300216    0.319598  -0.157858   \n",
       "Unnamed: 10      NaN          NaN       NaN         NaN        NaN   \n",
       "Unnamed: 11      NaN          NaN       NaN         NaN        NaN   \n",
       "\n",
       "                averageIncome  medianIncome  lifeExpectMen  lifeExpecWoman  \\\n",
       "year                      NaN           NaN            NaN             NaN   \n",
       "deathsMaori          0.392888      0.399982       0.020677        0.077128   \n",
       "deaths               0.686713      0.719279       0.342895        0.300216   \n",
       "population           0.704234      0.704462       0.370725        0.319598   \n",
       "deathRate           -0.841000     -0.825647      -0.253022       -0.157858   \n",
       "averageIncome        1.000000      0.918695       0.319915        0.208808   \n",
       "medianIncome         0.918695      1.000000       0.228444        0.120063   \n",
       "lifeExpectMen        0.319915      0.228444       1.000000        0.979623   \n",
       "lifeExpecWoman       0.208808      0.120063       0.979623        1.000000   \n",
       "Unnamed: 10               NaN           NaN            NaN             NaN   \n",
       "Unnamed: 11               NaN           NaN            NaN             NaN   \n",
       "\n",
       "                Unnamed: 10  Unnamed: 11  \n",
       "year                    NaN          NaN  \n",
       "deathsMaori             NaN          NaN  \n",
       "deaths                  NaN          NaN  \n",
       "population              NaN          NaN  \n",
       "deathRate               NaN          NaN  \n",
       "averageIncome           NaN          NaN  \n",
       "medianIncome            NaN          NaN  \n",
       "lifeExpectMen           NaN          NaN  \n",
       "lifeExpecWoman          NaN          NaN  \n",
       "Unnamed: 10             NaN          NaN  \n",
       "Unnamed: 11             NaN          NaN  "
      ]
     },
     "execution_count": 6,
     "metadata": {},
     "output_type": "execute_result"
    }
   ],
   "source": [
    "year_16.corr()"
   ]
  },
  {
   "cell_type": "markdown",
   "metadata": {},
   "source": [
    "# Regression\n",
    "\n",
    "From the graph above, the deathRate over income looks roughly linear. Let's now fit a simple linear regression following this equation:\n",
    "\n",
    "$$ deathRate = \\alpha + \\beta * medianIncome + \\varepsilon $$"
   ]
  },
  {
   "cell_type": "code",
   "execution_count": 7,
   "metadata": {
    "collapsed": false
   },
   "outputs": [
    {
     "name": "stdout",
     "output_type": "stream",
     "text": [
      "                            OLS Regression Results                            \n",
      "==============================================================================\n",
      "Dep. Variable:              deathRate   R-squared:                       0.682\n",
      "Model:                            OLS   Adj. R-squared:                  0.659\n",
      "Method:                 Least Squares   F-statistic:                     29.98\n",
      "Date:                Sun, 22 Jan 2017   Prob (F-statistic):           8.17e-05\n",
      "Time:                        01:56:16   Log-Likelihood:                 21.382\n",
      "No. Observations:                  16   AIC:                            -38.76\n",
      "Df Residuals:                      14   BIC:                            -37.22\n",
      "Df Model:                           1                                         \n",
      "Covariance Type:            nonrobust                                         \n",
      "================================================================================\n",
      "                   coef    std err          t      P>|t|      [95.0% Conf. Int.]\n",
      "--------------------------------------------------------------------------------\n",
      "Intercept        1.6725      0.162     10.339      0.000         1.326     2.019\n",
      "medianIncome    -0.0006      0.000     -5.476      0.000        -0.001    -0.000\n",
      "==============================================================================\n",
      "Omnibus:                        0.054   Durbin-Watson:                   2.153\n",
      "Prob(Omnibus):                  0.974   Jarque-Bera (JB):                0.268\n",
      "Skew:                           0.075   Prob(JB):                        0.875\n",
      "Kurtosis:                       2.384   Cond. No.                     1.35e+04\n",
      "==============================================================================\n",
      "\n",
      "Warnings:\n",
      "[1] Standard Errors assume that the covariance matrix of the errors is correctly specified.\n",
      "[2] The condition number is large, 1.35e+04. This might indicate that there are\n",
      "strong multicollinearity or other numerical problems.\n"
     ]
    },
    {
     "name": "stderr",
     "output_type": "stream",
     "text": [
      "/opt/anaconda/anaconda2/lib/python2.7/site-packages/scipy/stats/stats.py:1557: UserWarning:\n",
      "\n",
      "kurtosistest only valid for n>=20 ... continuing anyway, n=16\n",
      "\n"
     ]
    }
   ],
   "source": [
    "simple_model = ols('deathRate ~ medianIncome', year_16).fit()\n",
    "print simple_model.summary()"
   ]
  },
  {
   "cell_type": "code",
   "execution_count": 9,
   "metadata": {
    "collapsed": false
   },
   "outputs": [
    {
     "data": {
      "text/plain": [
       "u'https://plot.ly/~jcallinicos/2'"
      ]
     },
     "execution_count": 9,
     "metadata": {},
     "output_type": "execute_result"
    }
   ],
   "source": [
    "\"\"\"\n",
    "Produce Graph in Plotly ready for wesbite.\n",
    "\n",
    "Graph Type: Scatter Plot\n",
    "Data: Median Income, Death Rates\n",
    "\"\"\"\n",
    "\n",
    "trace = go.Scatter(\n",
    "    x = year_16['medianIncome'],\n",
    "    y = year_16['deathRate'],\n",
    "    mode = 'markers'\n",
    ")\n",
    "\n",
    "graph_data = [trace]\n",
    "\n",
    "py.plot(graph_data, filename='basic-scatter.html')"
   ]
  },
  {
   "cell_type": "code",
   "execution_count": 10,
   "metadata": {
    "collapsed": false
   },
   "outputs": [
    {
     "data": {
      "text/html": [
       "<div>\n",
       "<table border=\"1\" class=\"dataframe\">\n",
       "  <thead>\n",
       "    <tr style=\"text-align: right;\">\n",
       "      <th></th>\n",
       "      <th>year</th>\n",
       "      <th>region</th>\n",
       "      <th>deathsMaori</th>\n",
       "      <th>deaths</th>\n",
       "      <th>population</th>\n",
       "      <th>deathRate</th>\n",
       "      <th>averageIncome</th>\n",
       "      <th>medianIncome</th>\n",
       "      <th>lifeExpectMen</th>\n",
       "      <th>lifeExpecWoman</th>\n",
       "      <th>Unnamed: 10</th>\n",
       "      <th>Unnamed: 11</th>\n",
       "    </tr>\n",
       "  </thead>\n",
       "  <tbody>\n",
       "    <tr>\n",
       "      <th>0</th>\n",
       "      <td>2016</td>\n",
       "      <td>auckland</td>\n",
       "      <td>690</td>\n",
       "      <td>8082</td>\n",
       "      <td>1614400</td>\n",
       "      <td>0.500619</td>\n",
       "      <td>2017</td>\n",
       "      <td>1682</td>\n",
       "      <td>80.7</td>\n",
       "      <td>84.2</td>\n",
       "      <td>NaN</td>\n",
       "      <td>NaN</td>\n",
       "    </tr>\n",
       "    <tr>\n",
       "      <th>1</th>\n",
       "      <td>2016</td>\n",
       "      <td>bayOfPlenty</td>\n",
       "      <td>522</td>\n",
       "      <td>2475</td>\n",
       "      <td>293500</td>\n",
       "      <td>0.843271</td>\n",
       "      <td>1591</td>\n",
       "      <td>1419</td>\n",
       "      <td>79.4</td>\n",
       "      <td>83.4</td>\n",
       "      <td>NaN</td>\n",
       "      <td>NaN</td>\n",
       "    </tr>\n",
       "    <tr>\n",
       "      <th>2</th>\n",
       "      <td>2016</td>\n",
       "      <td>canterbury</td>\n",
       "      <td>177</td>\n",
       "      <td>4164</td>\n",
       "      <td>599900</td>\n",
       "      <td>0.694116</td>\n",
       "      <td>1789</td>\n",
       "      <td>1598</td>\n",
       "      <td>79.9</td>\n",
       "      <td>83.4</td>\n",
       "      <td>NaN</td>\n",
       "      <td>NaN</td>\n",
       "    </tr>\n",
       "    <tr>\n",
       "      <th>3</th>\n",
       "      <td>2016</td>\n",
       "      <td>gisborne</td>\n",
       "      <td>147</td>\n",
       "      <td>357</td>\n",
       "      <td>47800</td>\n",
       "      <td>0.746862</td>\n",
       "      <td>1639</td>\n",
       "      <td>1381</td>\n",
       "      <td>76.9</td>\n",
       "      <td>80.9</td>\n",
       "      <td>NaN</td>\n",
       "      <td>NaN</td>\n",
       "    </tr>\n",
       "    <tr>\n",
       "      <th>4</th>\n",
       "      <td>2016</td>\n",
       "      <td>hawkesBay</td>\n",
       "      <td>216</td>\n",
       "      <td>1404</td>\n",
       "      <td>161500</td>\n",
       "      <td>0.869350</td>\n",
       "      <td>1639</td>\n",
       "      <td>1381</td>\n",
       "      <td>79.0</td>\n",
       "      <td>82.7</td>\n",
       "      <td>NaN</td>\n",
       "      <td>NaN</td>\n",
       "    </tr>\n",
       "    <tr>\n",
       "      <th>5</th>\n",
       "      <td>2016</td>\n",
       "      <td>manawatu</td>\n",
       "      <td>246</td>\n",
       "      <td>2055</td>\n",
       "      <td>236900</td>\n",
       "      <td>0.867455</td>\n",
       "      <td>1395</td>\n",
       "      <td>1227</td>\n",
       "      <td>78.7</td>\n",
       "      <td>82.7</td>\n",
       "      <td>NaN</td>\n",
       "      <td>NaN</td>\n",
       "    </tr>\n",
       "    <tr>\n",
       "      <th>6</th>\n",
       "      <td>2016</td>\n",
       "      <td>marlborough</td>\n",
       "      <td>24</td>\n",
       "      <td>423</td>\n",
       "      <td>45500</td>\n",
       "      <td>0.929670</td>\n",
       "      <td>1560</td>\n",
       "      <td>1286</td>\n",
       "      <td>80.2</td>\n",
       "      <td>84.1</td>\n",
       "      <td>NaN</td>\n",
       "      <td>NaN</td>\n",
       "    </tr>\n",
       "    <tr>\n",
       "      <th>7</th>\n",
       "      <td>2016</td>\n",
       "      <td>nelson</td>\n",
       "      <td>9</td>\n",
       "      <td>435</td>\n",
       "      <td>50600</td>\n",
       "      <td>0.859684</td>\n",
       "      <td>1560</td>\n",
       "      <td>1286</td>\n",
       "      <td>80.2</td>\n",
       "      <td>83.8</td>\n",
       "      <td>NaN</td>\n",
       "      <td>NaN</td>\n",
       "    </tr>\n",
       "    <tr>\n",
       "      <th>8</th>\n",
       "      <td>2016</td>\n",
       "      <td>northland</td>\n",
       "      <td>420</td>\n",
       "      <td>1533</td>\n",
       "      <td>171400</td>\n",
       "      <td>0.894399</td>\n",
       "      <td>1370</td>\n",
       "      <td>1227</td>\n",
       "      <td>78.8</td>\n",
       "      <td>83.1</td>\n",
       "      <td>NaN</td>\n",
       "      <td>NaN</td>\n",
       "    </tr>\n",
       "    <tr>\n",
       "      <th>9</th>\n",
       "      <td>2016</td>\n",
       "      <td>otago</td>\n",
       "      <td>45</td>\n",
       "      <td>1614</td>\n",
       "      <td>219200</td>\n",
       "      <td>0.736314</td>\n",
       "      <td>1538</td>\n",
       "      <td>1454</td>\n",
       "      <td>79.6</td>\n",
       "      <td>83.3</td>\n",
       "      <td>NaN</td>\n",
       "      <td>NaN</td>\n",
       "    </tr>\n",
       "    <tr>\n",
       "      <th>10</th>\n",
       "      <td>2016</td>\n",
       "      <td>southand</td>\n",
       "      <td>63</td>\n",
       "      <td>840</td>\n",
       "      <td>98000</td>\n",
       "      <td>0.857143</td>\n",
       "      <td>1628</td>\n",
       "      <td>1511</td>\n",
       "      <td>78.8</td>\n",
       "      <td>82.6</td>\n",
       "      <td>NaN</td>\n",
       "      <td>NaN</td>\n",
       "    </tr>\n",
       "    <tr>\n",
       "      <th>11</th>\n",
       "      <td>2016</td>\n",
       "      <td>taranaki</td>\n",
       "      <td>102</td>\n",
       "      <td>1035</td>\n",
       "      <td>116700</td>\n",
       "      <td>0.886889</td>\n",
       "      <td>1563</td>\n",
       "      <td>1395</td>\n",
       "      <td>79.3</td>\n",
       "      <td>83.1</td>\n",
       "      <td>NaN</td>\n",
       "      <td>NaN</td>\n",
       "    </tr>\n",
       "    <tr>\n",
       "      <th>12</th>\n",
       "      <td>2016</td>\n",
       "      <td>tasman</td>\n",
       "      <td>12</td>\n",
       "      <td>405</td>\n",
       "      <td>50200</td>\n",
       "      <td>0.806773</td>\n",
       "      <td>1560</td>\n",
       "      <td>1286</td>\n",
       "      <td>81.1</td>\n",
       "      <td>84.7</td>\n",
       "      <td>NaN</td>\n",
       "      <td>NaN</td>\n",
       "    </tr>\n",
       "    <tr>\n",
       "      <th>13</th>\n",
       "      <td>2016</td>\n",
       "      <td>waikato</td>\n",
       "      <td>513</td>\n",
       "      <td>3075</td>\n",
       "      <td>449200</td>\n",
       "      <td>0.684550</td>\n",
       "      <td>1769</td>\n",
       "      <td>1486</td>\n",
       "      <td>79.3</td>\n",
       "      <td>83.2</td>\n",
       "      <td>NaN</td>\n",
       "      <td>NaN</td>\n",
       "    </tr>\n",
       "    <tr>\n",
       "      <th>14</th>\n",
       "      <td>2016</td>\n",
       "      <td>wellington</td>\n",
       "      <td>258</td>\n",
       "      <td>3186</td>\n",
       "      <td>504800</td>\n",
       "      <td>0.631141</td>\n",
       "      <td>2101</td>\n",
       "      <td>1726</td>\n",
       "      <td>80.0</td>\n",
       "      <td>83.6</td>\n",
       "      <td>NaN</td>\n",
       "      <td>NaN</td>\n",
       "    </tr>\n",
       "    <tr>\n",
       "      <th>15</th>\n",
       "      <td>2016</td>\n",
       "      <td>westcoast</td>\n",
       "      <td>15</td>\n",
       "      <td>279</td>\n",
       "      <td>32500</td>\n",
       "      <td>0.858462</td>\n",
       "      <td>1560</td>\n",
       "      <td>1286</td>\n",
       "      <td>79.2</td>\n",
       "      <td>82.9</td>\n",
       "      <td>NaN</td>\n",
       "      <td>NaN</td>\n",
       "    </tr>\n",
       "    <tr>\n",
       "      <th>16</th>\n",
       "      <td>NaN</td>\n",
       "      <td>NaN</td>\n",
       "      <td>NaN</td>\n",
       "      <td>NaN</td>\n",
       "      <td>NaN</td>\n",
       "      <td>NaN</td>\n",
       "      <td>NaN</td>\n",
       "      <td>NaN</td>\n",
       "      <td>NaN</td>\n",
       "      <td>NaN</td>\n",
       "      <td>NaN</td>\n",
       "      <td>NaN</td>\n",
       "    </tr>\n",
       "  </tbody>\n",
       "</table>\n",
       "</div>"
      ],
      "text/plain": [
       "    year       region  deathsMaori  deaths  population  deathRate  \\\n",
       "0   2016     auckland          690    8082     1614400   0.500619   \n",
       "1   2016  bayOfPlenty          522    2475      293500   0.843271   \n",
       "2   2016   canterbury          177    4164      599900   0.694116   \n",
       "3   2016     gisborne          147     357       47800   0.746862   \n",
       "4   2016    hawkesBay          216    1404      161500   0.869350   \n",
       "5   2016     manawatu          246    2055      236900   0.867455   \n",
       "6   2016  marlborough           24     423       45500   0.929670   \n",
       "7   2016       nelson            9     435       50600   0.859684   \n",
       "8   2016    northland          420    1533      171400   0.894399   \n",
       "9   2016        otago           45    1614      219200   0.736314   \n",
       "10  2016     southand           63     840       98000   0.857143   \n",
       "11  2016     taranaki          102    1035      116700   0.886889   \n",
       "12  2016       tasman           12     405       50200   0.806773   \n",
       "13  2016      waikato          513    3075      449200   0.684550   \n",
       "14  2016   wellington          258    3186      504800   0.631141   \n",
       "15  2016    westcoast           15     279       32500   0.858462   \n",
       "16   NaN          NaN          NaN     NaN         NaN        NaN   \n",
       "\n",
       "    averageIncome  medianIncome  lifeExpectMen  lifeExpecWoman  Unnamed: 10  \\\n",
       "0            2017          1682           80.7            84.2          NaN   \n",
       "1            1591          1419           79.4            83.4          NaN   \n",
       "2            1789          1598           79.9            83.4          NaN   \n",
       "3            1639          1381           76.9            80.9          NaN   \n",
       "4            1639          1381           79.0            82.7          NaN   \n",
       "5            1395          1227           78.7            82.7          NaN   \n",
       "6            1560          1286           80.2            84.1          NaN   \n",
       "7            1560          1286           80.2            83.8          NaN   \n",
       "8            1370          1227           78.8            83.1          NaN   \n",
       "9            1538          1454           79.6            83.3          NaN   \n",
       "10           1628          1511           78.8            82.6          NaN   \n",
       "11           1563          1395           79.3            83.1          NaN   \n",
       "12           1560          1286           81.1            84.7          NaN   \n",
       "13           1769          1486           79.3            83.2          NaN   \n",
       "14           2101          1726           80.0            83.6          NaN   \n",
       "15           1560          1286           79.2            82.9          NaN   \n",
       "16            NaN           NaN            NaN             NaN          NaN   \n",
       "\n",
       "    Unnamed: 11  \n",
       "0           NaN  \n",
       "1           NaN  \n",
       "2           NaN  \n",
       "3           NaN  \n",
       "4           NaN  \n",
       "5           NaN  \n",
       "6           NaN  \n",
       "7           NaN  \n",
       "8           NaN  \n",
       "9           NaN  \n",
       "10          NaN  \n",
       "11          NaN  \n",
       "12          NaN  \n",
       "13          NaN  \n",
       "14          NaN  \n",
       "15          NaN  \n",
       "16          NaN  "
      ]
     },
     "execution_count": 10,
     "metadata": {},
     "output_type": "execute_result"
    }
   ],
   "source": [
    "year_16"
   ]
  },
  {
   "cell_type": "markdown",
   "metadata": {},
   "source": [
    "## Explore Life Expectancy data\n",
    "\n",
    "With the dataset, we have Life Expectancy, at birth based off 2014 figures. "
   ]
  },
  {
   "cell_type": "code",
   "execution_count": 13,
   "metadata": {
    "collapsed": false
   },
   "outputs": [
    {
     "data": {
      "text/plain": [
       "<matplotlib.axes._subplots.AxesSubplot at 0x7fdb9bfc8110>"
      ]
     },
     "execution_count": 13,
     "metadata": {},
     "output_type": "execute_result"
    },
    {
     "data": {
      "image/png": "[encoded data removed]",
      "text/plain": [
       "<matplotlib.figure.Figure at 0x7fdb9c079f10>"
      ]
     },
     "metadata": {},
     "output_type": "display_data"
    }
   ],
   "source": [
    "year_16.plot.scatter(x='medianIncome', y= 'lifeExpectMen', s=50, title='Life Expectancy, Men, over Median Income')"
   ]
  },
  {
   "cell_type": "code",
   "execution_count": 14,
   "metadata": {
    "collapsed": false
   },
   "outputs": [
    {
     "data": {
      "text/plain": [
       "<matplotlib.axes._subplots.AxesSubplot at 0x7fdb9eff2690>"
      ]
     },
     "execution_count": 14,
     "metadata": {},
     "output_type": "execute_result"
    },
    {
     "data": {
      "image/png": "[encoded data removed]",
      "text/plain": [
       "<matplotlib.figure.Figure at 0x7fdb9f039a50>"
      ]
     },
     "metadata": {},
     "output_type": "display_data"
    }
   ],
   "source": [
    "year_16.plot.scatter(x='medianIncome', y= 'lifeExpecWoman', s=50, title='Life Expectancy, Men, over Median Income')"
   ]
  },
  {
   "cell_type": "code",
   "execution_count": 18,
   "metadata": {
    "collapsed": false
   },
   "outputs": [
    {
     "data": {
      "text/plain": [
       "0        auckland\n",
       "1     bayOfPlenty\n",
       "2      canterbury\n",
       "3        gisborne\n",
       "4       hawkesBay\n",
       "5        manawatu\n",
       "6     marlborough\n",
       "7          nelson\n",
       "8       northland\n",
       "9           otago\n",
       "10       southand\n",
       "11       taranaki\n",
       "12         tasman\n",
       "13        waikato\n",
       "14     wellington\n",
       "15      westcoast\n",
       "16            NaN\n",
       "Name: region, dtype: object"
      ]
     },
     "execution_count": 18,
     "metadata": {},
     "output_type": "execute_result"
    }
   ],
   "source": []
  },
  {
   "cell_type": "code",
   "execution_count": 25,
   "metadata": {
    "collapsed": false
   },
   "outputs": [
    {
     "data": {
      "text/plain": [
       "u'https://plot.ly/~jcallinicos/4'"
      ]
     },
     "execution_count": 25,
     "metadata": {},
     "output_type": "execute_result"
    }
   ],
   "source": [
    "\"\"\"\n",
    "Produce Graph in Plotly ready for wesbite.\n",
    "\n",
    "Graph Type: Bar chart\n",
    "Data: Life Expectancy men and women, Median Income\n",
    "\"\"\"\n",
    "\n",
    "trace1 = go.Bar(\n",
    "    x = year_16['region'],\n",
    "    y = year_16['lifeExpectMen'],\n",
    "    name = 'Life Expectancy Men'\n",
    ")\n",
    "trace2 = go.Bar(\n",
    "    x = year_16['region'],\n",
    "    y = year_16['lifeExpecWoman'],\n",
    "    name = 'Life Expectancy Women'\n",
    ")\n",
    "\"\"\"\n",
    "trace3 = go.Bar(\n",
    "    x = year_16['region'],\n",
    "    y = year_16['medianIncome'],\n",
    "    name = 'Median Household Income',\n",
    "    yaxis = 'Median Household Income ($)'\n",
    ")\n",
    "\"\"\"\n",
    "\n",
    "data = [trace1, trace2]\n",
    "layout = go.Layout(\n",
    "    barmode='group',\n",
    ")\n",
    "\n",
    "fig = go.Figure(data=data, layout=layout)\n",
    "py.plot(fig, filename='basic_bar.html')"
   ]
  },
  {
   "cell_type": "code",
   "execution_count": null,
   "metadata": {
    "collapsed": true
   },
   "outputs": [],
   "source": []
  }
 ],
 "metadata": {
  "kernelspec": {
   "display_name": "Python 2",
   "language": "python",
   "name": "python2"
  },
  "language_info": {
   "codemirror_mode": {
    "name": "ipython",
    "version": 2
   },
   "file_extension": ".py",
   "mimetype": "text/x-python",
   "name": "python",
   "nbconvert_exporter": "python",
   "pygments_lexer": "ipython2",
   "version": "2.7.11"
  }
 },
 "nbformat": 4,
 "nbformat_minor": 0
}
